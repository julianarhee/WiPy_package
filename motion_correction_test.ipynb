{
 "cells": [
  {
   "cell_type": "code",
   "execution_count": 1,
   "metadata": {
    "collapsed": true
   },
   "outputs": [],
   "source": [
    "# 01 Dec 2016 -- hyr\n",
    "# Attempt to adjust CE's motion correction toolkit for retinotopy-mapper data.\n",
    "#\n",
    "# FIXES:\n",
    "# Use opencv conda env -- this includes opencv=3.1\n",
    "# installed with:   conda install -c menpo opencv3=3.1.0\n"
   ]
  },
  {
   "cell_type": "code",
   "execution_count": 1,
   "metadata": {
    "collapsed": false
   },
   "outputs": [
    {
     "name": "stderr",
     "output_type": "stream",
     "text": [
      "/home/julianarhee/.local/lib/python2.7/site-packages/matplotlib/__init__.py:1401: UserWarning:  This call to matplotlib.use() has no effect\n",
      "because the backend has already been chosen;\n",
      "matplotlib.use() must be called *before* pylab, matplotlib.pyplot,\n",
      "or matplotlib.backends is imported for the first time.\n",
      "\n",
      "  warnings.warn(_use_error_msg)\n"
     ]
    }
   ],
   "source": [
    "\n",
    "%matplotlib inline\n",
    "\n",
    "import cv2\n",
    "import os\n",
    "import glob\n",
    "import numpy as np\n",
    "from scipy import misc,interpolate,stats\n",
    "import matplotlib\n",
    "matplotlib.use('Agg')\n",
    "import matplotlib.pyplot as plt\n",
    "import matplotlib.lines as mlines\n",
    "from matplotlib import colors\n",
    "import time\n",
    "import shutil\n",
    "\n",
    "__version__ = '0.3.1'"
   ]
  },
  {
   "cell_type": "code",
   "execution_count": 2,
   "metadata": {
    "collapsed": true
   },
   "outputs": [],
   "source": [
    "from WiPy import *"
   ]
  },
  {
   "cell_type": "code",
   "execution_count": 3,
   "metadata": {
    "collapsed": false
   },
   "outputs": [
    {
     "name": "stdout",
     "output_type": "stream",
     "text": [
      "['Right_run1', 'Left_run1', 'Bottom_run1', 'Top_run1', 'Blank_run1', 'Left_run2', 'Bottom_run2', 'Top_run2', 'Left_run3', 'Right_run3', 'Right_run2']\n"
     ]
    }
   ],
   "source": [
    "# session_dir = '/nas/volume1/widefield/data/JR029W/20161201/JR029W_bar_013Hz'\n",
    "session_dir = '/nas/volume1/widefield/data/JR040W/20170212/JR040W_bar_013Hz'\n",
    "\n",
    "session_name = os.path.split(session_dir)[1]\n",
    "session_date = os.path.split(os.path.split(session_dir)[0])[1]\n",
    "\n",
    "conditions = [i for i in os.listdir(session_dir) if '_run' in i and 'processed' not in i]\n",
    "print conditions"
   ]
  },
  {
   "cell_type": "code",
   "execution_count": 4,
   "metadata": {
    "collapsed": false
   },
   "outputs": [],
   "source": [
    "#runs_to_correct = ['Left_run1', 'Right_run1']"
   ]
  },
  {
   "cell_type": "code",
   "execution_count": 5,
   "metadata": {
    "collapsed": false
   },
   "outputs": [],
   "source": [
    "#def perform_motion_registration(\n",
    "#sourceRoot,\n",
    "#targetRoot,\n",
    "#sessID,\n",
    "#runList,\n",
    "refRun=1\n",
    "saveFrames=True\n",
    "makeMovies=True\n",
    "frameRate=60.\n",
    "\n",
    "sourceRoot = session_dir\n",
    "targetRoot = os.path.join(session_dir, 'mCorrected')\n",
    "if not os.path.exists(targetRoot):\n",
    "    os.makedirs(targetRoot)\n",
    "sessID = session_date + '_' + session_name"
   ]
  },
  {
   "cell_type": "code",
   "execution_count": 6,
   "metadata": {
    "collapsed": false
   },
   "outputs": [],
   "source": [
    "#DEFINE AND MAKE DIRECTORIES\n",
    "# motionDir=targetRoot+'/Sessions/'+sessID+'/Motion/';\n",
    "motionDir = os.path.join(targetRoot, 'Motion')\n",
    "\n",
    "if not os.path.exists(motionDir):\n",
    "        os.makedirs(motionDir)\n",
    "\n",
    "motionFileDir = os.path.join(motionDir, 'Registration')\n",
    "if not os.path.exists(motionFileDir):\n",
    "    os.makedirs(motionFileDir)\n",
    "\n",
    "motionFigDir = os.path.join(motionDir, 'Figures')\n",
    "if not os.path.exists(motionFigDir):\n",
    "    os.makedirs(motionFigDir)\n",
    "\n",
    "motionMovieDir = os.path.join(motionDir, 'Movies')\n",
    "if makeMovies:\n",
    "    if not os.path.exists(motionMovieDir):\n",
    "        os.makedirs(motionMovieDir)\n",
    "    "
   ]
  },
  {
   "cell_type": "code",
   "execution_count": 7,
   "metadata": {
    "collapsed": false
   },
   "outputs": [],
   "source": [
    "#OUTPUT TEXT FILE WITH PACKAGE VERSION\n",
    "outFile=motionFileDir+'analysis_version_info.txt'\n",
    "versionTextFile = open(outFile, 'w+')\n",
    "versionTextFile.write('WiPy version '+__version__+'\\n')\n",
    "versionTextFile.close()"
   ]
  },
  {
   "cell_type": "code",
   "execution_count": 8,
   "metadata": {
    "collapsed": true
   },
   "outputs": [],
   "source": [
    "def get_reference_frame(sourceRoot,cond,refRun=1):\n",
    "    #Cesar Echavarria 11/2016\n",
    "    \n",
    "    #MAKE SURE YOU GET SOME ARGUMENTS\n",
    "    if sourceRoot is None:\n",
    "        raise TypeError(\"sourceRoot is not defined!\")\n",
    "    if sessID is None:\n",
    "        raise TypeError(\"sessID is not defined!\")\n",
    "    \n",
    "#     runFolder=glob.glob(sourceRoot+sessID+'_run'+str(refRun)+'_*')\n",
    "#     frameFolder=runFolder[0]+\"/frames/\"\n",
    "        \n",
    "#     imFile=frameFolder+'frame0.tiff'\n",
    "    \n",
    "    runFolder = os.path.join(sourceRoot, cond+'_run'+str(refRun))\n",
    "    fnames = os.listdir(runFolder)\n",
    "    imFile = os.path.join(runFolder, fnames[0])\n",
    "    imRef=misc.imread(imFile)\n",
    "    return imRef"
   ]
  },
  {
   "cell_type": "code",
   "execution_count": 10,
   "metadata": {
    "collapsed": false
   },
   "outputs": [
    {
     "name": "stdout",
     "output_type": "stream",
     "text": [
      "Right\n"
     ]
    }
   ],
   "source": [
    "#GET REFFERNCE FRAME\n",
    "curr_run = conditions[0]\n",
    "cond = curr_run.split('_')[0]\n",
    "print cond "
   ]
  },
  {
   "cell_type": "code",
   "execution_count": 11,
   "metadata": {
    "collapsed": false
   },
   "outputs": [],
   "source": [
    "\n",
    "imRef=get_reference_frame(sourceRoot,cond,refRun)\n",
    "szY,szX=imRef.shape\n"
   ]
  },
  {
   "cell_type": "code",
   "execution_count": 12,
   "metadata": {
    "collapsed": false
   },
   "outputs": [],
   "source": [
    "# run = 'Left_run1'\n",
    "# os.path.join(motionFileDir, ''.join([sessID, '_run', str(run), '_motionRegistration']))\n",
    "# motionFileDir"
   ]
  },
  {
   "cell_type": "code",
   "execution_count": 13,
   "metadata": {
    "collapsed": false
   },
   "outputs": [
    {
     "name": "stdout",
     "output_type": "stream",
     "text": [
      "Right\n",
      "Performing image registration for run: Right\n",
      "N frames: 9230\n",
      "Loading frames....\n",
      "Doing motion registration...\n",
      "Motion Registration at frame 0 of 9230\n",
      "Motion Registration at frame 1000 of 9230\n",
      "Motion Registration at frame 2000 of 9230\n",
      "Motion Registration at frame 3000 of 9230\n",
      "Motion Registration at frame 4000 of 9230\n",
      "Motion Registration at frame 5000 of 9230\n",
      "Motion Registration at frame 6000 of 9230\n",
      "Motion Registration at frame 7000 of 9230\n",
      "Motion Registration at frame 8000 of 9230\n",
      "Motion Registration at frame 9000 of 9230\n",
      "7797\n",
      "Motion Correction at frame 0 of 9230\n",
      "Motion Correction at frame 1000 of 9230\n",
      "Motion Correction at frame 2000 of 9230\n",
      "Motion Correction at frame 3000 of 9230\n",
      "Motion Correction at frame 4000 of 9230\n",
      "Motion Correction at frame 5000 of 9230\n",
      "Motion Correction at frame 6000 of 9230\n",
      "Motion Correction at frame 7000 of 9230\n",
      "Motion Correction at frame 8000 of 9230\n",
      "Motion Correction at frame 9000 of 9230\n",
      "Getting motion corrected image boundaries...\n",
      "Applying motion corrected image boundaries...\n",
      "frame 0 of 9230\n",
      "frame 1000 of 9230\n",
      "frame 2000 of 9230\n",
      "frame 3000 of 9230\n",
      "frame 4000 of 9230\n",
      "frame 5000 of 9230\n",
      "frame 6000 of 9230\n",
      "frame 7000 of 9230\n",
      "frame 8000 of 9230\n",
      "frame 9000 of 9230\n"
     ]
    },
    {
     "data": {
      "image/png": "[encoded data removed]",
      "text/plain": [
       "<matplotlib.figure.Figure at 0x7f86cf1f42d0>"
      ]
     },
     "metadata": {},
     "output_type": "display_data"
    }
   ],
   "source": [
    "\n",
    "\n",
    "#PERFORM REGISTRATION FOR ALL RUNS\n",
    "# for (runCount,run) in enumerate(runList):\n",
    "\n",
    "# runList = runs_to_correct\n",
    "runList = ['Right_run1']\n",
    "#runList = ['Top_run1', 'Bottom_run1', 'Top_run2', 'Bottom_run2']\n",
    "#runList = ['Left_run2', 'Left_run3', 'Right_run2', 'Right_run3']\n",
    "#runList = ['Left_run1', 'Right_run1']\n",
    "refRunName = runList[0]\n",
    "\n",
    "for runCount, run in enumerate(runList):\n",
    "    \n",
    "    cond = run.split('_')[0]\n",
    "    print cond\n",
    "    \n",
    "    imRef=get_reference_frame(sourceRoot,cond,refRun)\n",
    "    szY,szX=imRef.shape\n",
    "\n",
    "    #print('Performing image registration for run: '+ cond+'_run'+str(run))\n",
    "    print('Performing image registration for run: '+ cond)\n",
    "\n",
    "    #runFolder=glob.glob(sourceRoot+sessID+'_run'+str(run)+'_*')\n",
    "    #frameFolder=runFolder[0]+\"/frames/\"\n",
    "    #planFolder=runFolder[0]+\"/plan/\"\n",
    "    frameFolder = os.path.join(session_dir, run)\n",
    "    frames = os.listdir(frameFolder)\n",
    "    frames = [i for i in frames if '.tif' in i]\n",
    "    print \"N frames: %i\" % len(frames)\n",
    "    \n",
    "    #frameTimes,frameCond,frameCount=get_frame_times(planFolder)\n",
    "    frameCount = len(frames)\n",
    "    frameTimes = np.arange(frameCount)\n",
    "\n",
    "    #READ IN FRAMES\n",
    "    frameArray=np.empty((szY,szX,frameCount))\n",
    "    print('Loading frames....')\n",
    "    for fidx,f in enumerate(frames):\n",
    "        imFile = os.path.join(frameFolder, f) #frameFolder+'frame'+str(f)+'.tiff'\n",
    "        #print imFile\n",
    "        im0=misc.imread(imFile)\n",
    "        #plt.imshow(im0)\n",
    "        #print im0.shape\n",
    "        frameArray[:,:,fidx]=im0[:,:]\n",
    "\n",
    "    if makeMovies:\n",
    "        #GENRATE RAW DATA MOVIE\n",
    "        frameArrayNorm=normalize_stack(frameArray)\n",
    "        #outFile=motionMovieDir+sessID+'_run'+str(run)+'_raw_stack.avi'\n",
    "        outFile=os.path.join(motionMovieDir, run+'_raw_stack.avi')\n",
    "        make_movie_from_stack(motionMovieDir,frameArrayNorm,frameRate,outFile)\n",
    "    \n",
    "\n",
    "    #MOTION REGISTRATION\n",
    "    print \"Doing motion registration...\"\n",
    "    warpMatrices,motionMag=motion_registration(imRef,frameArray)\n",
    "\n",
    "    #-> plot motion magnitude (squared error from identity matrix) and save figure\n",
    "    fig=plt.figure()\n",
    "    plt.plot(frameTimes,motionMag)\n",
    "    fig.suptitle('Motion Over Time', fontsize=20)\n",
    "    plt.xlabel('Time (secs)',fontsize=16)\n",
    "    plt.ylabel('Motion Magnitude (AU)',fontsize=16)\n",
    "    #plt.savefig(os.path.join(motionFigDir, sessID+'_run'+str(run)+'_motionMagnitude.png')\n",
    "    plt.savefig(os.path.join(motionFigDir, ''.join([sessID,'_run',str(run),'_motionMagnitude.png'])))\n",
    "    #plt.close()\n",
    "\n",
    "    #-> save warp matrices\n",
    "    #outFile=[motionFileDir + sessID + '_run' + str(run) + '_motionRegistration']\n",
    "    outFile = os.path.join(motionFileDir, ''.join([sessID, '_run', str(run), '_motionRegistration']))\n",
    "    np.savez(outFile,warpMatrices=warpMatrices)\n",
    "\n",
    "    #APPLY MOTION CORRECTION AND SAVE\n",
    "    correctedFrameArray=apply_motion_correction(frameArray,warpMatrices)\n",
    "    if saveFrames:\n",
    "        outFile = os.path.join(motionFileDir, ''.join([sessID, '_run', str(run), '_correctedFrames']))\n",
    "        np.savez(outFile,correctedFrameArray=correctedFrameArray)\n",
    "\n",
    "    #GET MOTION CORRECTED BOUNDARIES\n",
    "    edgeUpList,edgeDownList,edgeLeftList,edgeRightList = get_motion_corrected_boundaries(correctedFrameArray,warpMatrices)\n",
    "\n",
    "    if runCount==0:\n",
    "        if runList[0] == refRunName:\n",
    "            edgeUp=np.max(edgeUpList)\n",
    "            edgeDown=np.min(edgeDownList)\n",
    "            edgeLeft=np.max(edgeLeftList)\n",
    "            edgeRight=np.min(edgeRightList)\n",
    "        else:\n",
    "            #LOAD BOUNDARIES\n",
    "            #inFile=motionFileDir+sessID+'_motionCorrectedBoundaries_intermediate.npz'\n",
    "            inFile = os.path.join(motionFileDir, ''.join([sessID, '_motionCorrectedBoundaries_intermediate.npz']))\n",
    "            f=np.load(inFile)\n",
    "            boundaries_tmp=f['boundaries']\n",
    "\n",
    "            edgeUp=boundaries_tmp[0]\n",
    "            edgeDown=boundaries_tmp[1]\n",
    "            edgeLeft=boundaries_tmp[2]\n",
    "            edgeRight=boundaries_tmp[3]\n",
    "\n",
    "            edgeUp=np.max([edgeUpLast,edpeUpLast])\n",
    "            edgeDown=np.min([edgeDownLast,np.min(edgeDownList)])\n",
    "            edgeLeft=np.max([edgeLeftLast,np.max(edgeLeftList)])\n",
    "            edgeRight=np.min([edgeRightLast,np.min(edgeRightList)])\n",
    "    else:\n",
    "        edgeUp=np.max([edgeUp,np.max(edgeUpList)])\n",
    "        edgeDown=np.min([edgeDown,np.min(edgeDownList)])\n",
    "        edgeLeft=np.max([edgeLeft,np.max(edgeLeftList)])\n",
    "        edgeRight=np.min([edgeRight,np.min(edgeRightList)])\n",
    "\n",
    "    boundaries=(edgeUp,edgeDown,edgeLeft,edgeRight)  \n",
    "    #->save boundaries\n",
    "    #outFile=strcat(motionFileDir, sessID, '_motionCorrectedBoundaries_intermediate')\n",
    "    outFile = os.path.join(motionFileDir, ''.join([sessID, '_motionCorrectedBoundaries_intermediate']))\n",
    "    np.savez(outFile,boundaries=boundaries)\n",
    "\n",
    "    if makeMovies:\n",
    "        #APPLY BOUNDARIES\n",
    "        tmp_boundaries=(edgeUp,edgeDown,edgeLeft,edgeRight)  \n",
    "        trimCorrectedFrameArray = apply_motion_correction_boundaries(correctedFrameArray,np.int32(tmp_boundaries))\n",
    "\n",
    "        #GENRATE MOTION CORRECTED MOVIE\n",
    "        frameArrayNorm=normalize_stack(trimCorrectedFrameArray)\n",
    "        #outFile=strcat(motionMovieDir, sessID, '_run', str(run), '_MC_trimmed_stack.avi'\n",
    "        outFile = os.path.join(motionMovieDir, ''.join([sessID, '_run', str(run), '_MC_trimmed_stack.avi']))\n",
    "        make_movie_from_stack(motionMovieDir,frameArrayNorm,frameRate,outFile)\n",
    "\n",
    "boundaries=(edgeUp,edgeDown,edgeLeft,edgeRight)  \n",
    "#->save boundaries\n",
    "#outFile=stcat(motionFileDir, sessID, '_motionCorrectedBoundaries')\n",
    "outFile = os.path.join(motionFileDir, ''.join([sessID, '_motionCorrectedBoundaries']))\n",
    "np.savez(outFile,boundaries=boundaries)\n",
    "\n"
   ]
  },
  {
   "cell_type": "code",
   "execution_count": 25,
   "metadata": {
    "collapsed": false
   },
   "outputs": [
    {
     "ename": "NameError",
     "evalue": "name 'tmpDir' is not defined",
     "output_type": "error",
     "traceback": [
      "\u001b[0;31m---------------------------------------------------------------------------\u001b[0m",
      "\u001b[0;31mNameError\u001b[0m                                 Traceback (most recent call last)",
      "\u001b[0;32m<ipython-input-25-7b5747535bc6>\u001b[0m in \u001b[0;36m<module>\u001b[0;34m()\u001b[0m\n\u001b[0;32m----> 1\u001b[0;31m \u001b[0mcmd\u001b[0m \u001b[0;34m=\u001b[0m \u001b[0;34m'ffmpeg -y -r '\u001b[0m\u001b[0;34m+\u001b[0m\u001b[0;34m'%.3f'\u001b[0m\u001b[0;34m%\u001b[0m\u001b[0mframeRate\u001b[0m\u001b[0;34m+\u001b[0m\u001b[0;34m' -i '\u001b[0m\u001b[0;34m+\u001b[0m\u001b[0mtmpDir\u001b[0m\u001b[0;34m+\u001b[0m\u001b[0;34m'%d.png -vcodec libx264 -f mp4 -pix_fmt yuv420p '\u001b[0m\u001b[0;34m+\u001b[0m\u001b[0mmovFile\u001b[0m\u001b[0;34m\u001b[0m\u001b[0m\n\u001b[0m\u001b[1;32m      2\u001b[0m \u001b[0;31m#trimCorrectedFrameArray = apply_motion_correction_boundaries(correctedFrameArray,np.int32(tmp_boundaries))\u001b[0m\u001b[0;34m\u001b[0m\u001b[0;34m\u001b[0m\u001b[0m\n",
      "\u001b[0;31mNameError\u001b[0m: name 'tmpDir' is not defined"
     ]
    }
   ],
   "source": [
    "#cmd = 'ffmpeg -y -r '+'%.3f'%frameRate+' -i '+tmpDir+'%d.png -vcodec libx264 -f mp4 -pix_fmt yuv420p '+movFile\n",
    "#trimCorrectedFrameArray = apply_motion_correction_boundaries(correctedFrameArray,np.int32(tmp_boundaries))"
   ]
  },
  {
   "cell_type": "code",
   "execution_count": 26,
   "metadata": {
    "collapsed": false
   },
   "outputs": [
    {
     "ename": "NameError",
     "evalue": "name 'tmpDir' is not defined",
     "output_type": "error",
     "traceback": [
      "\u001b[0;31m---------------------------------------------------------------------------\u001b[0m",
      "\u001b[0;31mNameError\u001b[0m                                 Traceback (most recent call last)",
      "\u001b[0;32m<ipython-input-26-0c050b55086a>\u001b[0m in \u001b[0;36m<module>\u001b[0;34m()\u001b[0m\n\u001b[0;32m----> 1\u001b[0;31m \u001b[0;32mprint\u001b[0m \u001b[0mtmpDir\u001b[0m\u001b[0;34m\u001b[0m\u001b[0m\n\u001b[0m",
      "\u001b[0;31mNameError\u001b[0m: name 'tmpDir' is not defined"
     ]
    }
   ],
   "source": [
    "#print tmpDir"
   ]
  },
  {
   "cell_type": "code",
   "execution_count": null,
   "metadata": {
    "collapsed": false
   },
   "outputs": [],
   "source": [
    "# del frameArrayNorm\n",
    "# makeMovies = True\n",
    "# frameRate = 120.\n",
    "# if makeMovies:\n",
    "#     #GENRATE RAW DATA MOVIE\n",
    "#     frameArrayNorm=normalize_stack(frameArray)\n",
    "#     #outFile=motionMovieDir+sessID+'_run'+str(run)+'_raw_stack.avi'\n",
    "#     outFile=os.path.join(motionMovieDir, run+'_raw_stack.avi')\n",
    "#     make_movie_from_stack(motionMovieDir,frameArrayNorm,frameRate,outFile)\n",
    "    "
   ]
  },
  {
   "cell_type": "code",
   "execution_count": null,
   "metadata": {
    "collapsed": true
   },
   "outputs": [],
   "source": []
  }
 ],
 "metadata": {
  "kernelspec": {
   "display_name": "Python 2",
   "language": "python",
   "name": "python2"
  },
  "language_info": {
   "codemirror_mode": {
    "name": "ipython",
    "version": 2
   },
   "file_extension": ".py",
   "mimetype": "text/x-python",
   "name": "python",
   "nbconvert_exporter": "python",
   "pygments_lexer": "ipython2",
   "version": "2.7.13"
  }
 },
 "nbformat": 4,
 "nbformat_minor": 0
}
